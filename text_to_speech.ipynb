{
 "cells": [
  {
   "cell_type": "markdown",
   "id": "740f907e-e3d7-4627-89b0-4d364c39f39c",
   "metadata": {},
   "source": [
    "# SWivid / F5-TTS\n",
    "\n",
    "https://github.com/SWivid/F5-TTS/\n",
    "\n",
    "https://huggingface.co/SWivid/F5-TTS\n",
    "\n",
    "https://arxiv.org/abs/2410.06885"
   ]
  },
  {
   "cell_type": "code",
   "execution_count": 1,
   "id": "26bb94e3-a76b-4389-9d76-4018404d0ccd",
   "metadata": {
    "execution": {
     "iopub.execute_input": "2024-10-15T21:32:13.020325Z",
     "iopub.status.busy": "2024-10-15T21:32:13.017720Z",
     "iopub.status.idle": "2024-10-15T21:32:13.935183Z",
     "shell.execute_reply": "2024-10-15T21:32:13.932649Z",
     "shell.execute_reply.started": "2024-10-15T21:32:13.020142Z"
    }
   },
   "outputs": [
    {
     "name": "stdout",
     "output_type": "stream",
     "text": [
      "Cloning into 'F5-TTS'...\n",
      "remote: Enumerating objects: 309, done.\u001b[K\n",
      "remote: Counting objects: 100% (86/86), done.\u001b[K\n",
      "remote: Compressing objects: 100% (37/37), done.\u001b[K\n",
      "remote: Total 309 (delta 58), reused 62 (delta 48), pack-reused 223 (from 1)\u001b[K\n",
      "Receiving objects: 100% (309/309), 680.56 KiB | 7.65 MiB/s, done.\n",
      "Resolving deltas: 100% (177/177), done.\n"
     ]
    }
   ],
   "source": [
    "!git clone https://github.com/SWivid/F5-TTS.git"
   ]
  },
  {
   "cell_type": "markdown",
   "id": "adb2b2b6-eeef-48e5-aeb7-d2dbc767e651",
   "metadata": {},
   "source": [
    "Open a Terminal\n",
    "\n",
    "Navigate to the repo directory\n",
    "\n",
    "> cd /workspace/wordslab-voice/F5-TTS\n",
    "\n",
    "Create a virtual environment and activate it\n",
    "\n",
    "> python -m venv --system-site-packages --prompt F5-TTS .venv\n",
    "\n",
    "> source .venv/bin/activate\n",
    "\n",
    "Install the dependencies\n",
    "\n",
    "> pip install -r requirements.txt\n"
   ]
  },
  {
   "cell_type": "markdown",
   "id": "b424bcbb-58a9-45ac-8d3d-19f064c2330c",
   "metadata": {
    "execution": {
     "iopub.execute_input": "2024-10-15T21:38:46.263704Z",
     "iopub.status.busy": "2024-10-15T21:38:46.263307Z",
     "iopub.status.idle": "2024-10-15T21:38:46.270944Z",
     "shell.execute_reply": "2024-10-15T21:38:46.269625Z",
     "shell.execute_reply.started": "2024-10-15T21:38:46.263681Z"
    }
   },
   "source": [
    "Execute the test\n",
    "\n",
    "```bash\n",
    "python inference-cli.py --model \"F5-TTS\" --ref_audio \"tests/ref_audio/test_en_1_ref_short.wav\" --ref_text \"Some call me nature, others call me mother nature.\" --gen_text \"I don't really care what you call me. I've been a silent spectator, watching species evolve, empires rise and fall. But always remember, I am mighty and enduring. Respect me and I'll nurture you; ignore me and you shall face the consequences.\"\n",
    "```"
   ]
  },
  {
   "cell_type": "markdown",
   "id": "a063f0a1-59d7-4a1e-9648-b18ad987fd27",
   "metadata": {},
   "source": [
    "Execute a test in french\n",
    "\n",
    "```bash\n",
    "python inference-cli.py --model \"F5-TTS\" --ref_audio \"tests/ref_audio/test_en_1_ref_short.wav\" --ref_text \"Some call me nature, others call me mother nature.\" --gen_text \"In Python, triple-quoted strings allow you to create multi-line strings and include special characters, such as newlines, tabs, and quotes, without needing to escape them. They are created using either three double quotes or three single quotes.\"\n",
    "```"
   ]
  }
 ],
 "metadata": {
  "kernelspec": {
   "display_name": "wordslab-voice",
   "language": "python",
   "name": "wordslab-voice"
  },
  "language_info": {
   "codemirror_mode": {
    "name": "ipython",
    "version": 3
   },
   "file_extension": ".py",
   "mimetype": "text/x-python",
   "name": "python",
   "nbconvert_exporter": "python",
   "pygments_lexer": "ipython3",
   "version": "3.12.7"
  }
 },
 "nbformat": 4,
 "nbformat_minor": 5
}
